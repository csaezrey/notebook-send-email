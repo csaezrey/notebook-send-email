{
 "cells": [
  {
   "cell_type": "markdown",
   "id": "39bb05a7",
   "metadata": {},
   "source": [
    "# Ejemplo de envío de correo con smtplib"
   ]
  },
  {
   "cell_type": "markdown",
   "id": "ed55bed6",
   "metadata": {},
   "source": [
    "Primero se debe importar la libreria Smtp que permite crear una sesión cliente"
   ]
  },
  {
   "cell_type": "code",
   "execution_count": 1,
   "id": "0b496938",
   "metadata": {},
   "outputs": [],
   "source": [
    "import smtplib"
   ]
  },
  {
   "cell_type": "markdown",
   "id": "2389994c",
   "metadata": {},
   "source": [
    "Ahora se deben configurar las variables que definen quien envía el correo y el destinatario.\n",
    "\n",
    "sender: Correo de origen\\\n",
    "password: Clave del correo de origen\\\n",
    "to: Correo del destinatario\\\n",
    "puerto_smtp: Puerto del servidor de correo de origen. Generalmente el 587\\\n",
    "host_smtp: Host del servidor de correo de origen: Ej. smtp.office365.com o smtp.gmail.com\\\n",
    "subject: Asunto en el correo\\\n",
    "content: Cuerpo del Correo\\"
   ]
  },
  {
   "cell_type": "code",
   "execution_count": 2,
   "id": "0a013bbc",
   "metadata": {},
   "outputs": [],
   "source": [
    "to = (\"correo_destino@gmail.com\", \"correo_destino@hotmail.com\")"
   ]
  },
  {
   "cell_type": "code",
   "execution_count": 3,
   "id": "6c8a6562",
   "metadata": {},
   "outputs": [],
   "source": [
    "sender = 'mi_correo@gmail.com'"
   ]
  },
  {
   "cell_type": "code",
   "execution_count": 4,
   "id": "bc929a0f",
   "metadata": {},
   "outputs": [],
   "source": [
    "password = 'mipassword'"
   ]
  },
  {
   "cell_type": "code",
   "execution_count": 5,
   "id": "3e7a074d",
   "metadata": {},
   "outputs": [],
   "source": [
    "puerto_smtp = 587"
   ]
  },
  {
   "cell_type": "code",
   "execution_count": 6,
   "id": "63f1f383",
   "metadata": {},
   "outputs": [],
   "source": [
    "host_smtp = 'smtp.gmail.com'"
   ]
  },
  {
   "cell_type": "code",
   "execution_count": 7,
   "id": "58e5fb16",
   "metadata": {},
   "outputs": [],
   "source": [
    "subject = 'Ejemplo Correo'"
   ]
  },
  {
   "cell_type": "code",
   "execution_count": 8,
   "id": "ccecd89f",
   "metadata": {},
   "outputs": [],
   "source": [
    "content = 'Este es un correo de ejemplo'"
   ]
  },
  {
   "cell_type": "markdown",
   "id": "39541a63",
   "metadata": {},
   "source": [
    "Una vez listas las variables se debe construir el mensaje. En el mensaje debe agregarse el asunto y el cuerpo. Si bien pueden omitirse los destinatarios en el cuerpo del mensaje estos no aparecerian en el correo.\n",
    "\n",
    "smtplib.SMTP le indica el servidor de correos.\n",
    "\n",
    ".ehlo: Identifica el servidor\\\n",
    ".starttls: Comienza la conexión en modo TLS\\\n",
    ".login: Inicia sesión en el servidor de correo\\\n",
    ".sendmail: Realiza el envío del correo\\\n",
    ".quit: Cierra la conexión tls"
   ]
  },
  {
   "cell_type": "code",
   "execution_count": 23,
   "id": "4d69933a",
   "metadata": {},
   "outputs": [],
   "source": [
    "message = \"\"\"To: %s\\nSubject: %s\\n\\n%s\"\"\" % (\", \".join(to), subject, content)"
   ]
  },
  {
   "cell_type": "code",
   "execution_count": 24,
   "id": "379cc5ca",
   "metadata": {},
   "outputs": [],
   "source": [
    "mail = smtplib.SMTP(host_smtp, puerto_smtp)"
   ]
  },
  {
   "cell_type": "code",
   "execution_count": 25,
   "id": "44b21009",
   "metadata": {},
   "outputs": [
    {
     "data": {
      "text/plain": [
       "(221, b'2.0.0 Service closing transmission channel')"
      ]
     },
     "execution_count": 25,
     "metadata": {},
     "output_type": "execute_result"
    }
   ],
   "source": [
    "mail.ehlo()\n",
    "mail.starttls()\n",
    "mail.login(sender, password)\n",
    "mail.sendmail(sender, to, message)\n",
    "mail.quit()"
   ]
  }
 ],
 "metadata": {
  "kernelspec": {
   "display_name": "Python 3",
   "language": "python",
   "name": "python3"
  },
  "language_info": {
   "codemirror_mode": {
    "name": "ipython",
    "version": 3
   },
   "file_extension": ".py",
   "mimetype": "text/x-python",
   "name": "python",
   "nbconvert_exporter": "python",
   "pygments_lexer": "ipython3",
   "version": "3.8.8"
  }
 },
 "nbformat": 4,
 "nbformat_minor": 5
}
